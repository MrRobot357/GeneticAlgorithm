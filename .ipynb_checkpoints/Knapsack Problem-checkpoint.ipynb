{
 "cells": [
  {
   "cell_type": "markdown",
   "metadata": {},
   "source": [
    "# Genetic algorithm: Rucksackproblem\n",
    "\n",
    "In diesem Beispiel soll das sogenannte Rucksackproblem gelöst werden.\n",
    "Eine Menge von Gegenständen die jeweils ein Gewicht und einen Nutzwert haben, sollen in einen Rucksack gepackt werden, der eine maximale Traglast hat.\n",
    "Da der Rucksack nicht für alle Objekte ausreicht, kann nur ein Teil davon eingepackt werden.\n",
    "Der Nutzwert der gewählten Sachen soll maximiert werden, ohne die Maximallast zu übersteigen.\n",
    "\n",
    "Genetische Algorithmen können hierfür eine Lösung sein.\n",
    "Diese Algorithmen basieren auf Darwins Theorie 'Survival of the Fittest'. Hierbei werden, ähnlich wie bei der Evolution, zufällige Veränderungen an Möglichen\n",
    "Lösungen vorgenommen, bis die beste Lösung gefunden ist.\n",
    "\n",
    "Folgendes Ablaufdiagramm veranschaulicht die Schritte die in diesem Beispiel durchgeführt werden:\n",
    "\n",
    "![alt text](Flowchart.png \"Title\")"
   ]
  },
  {
   "cell_type": "code",
   "execution_count": 18,
   "metadata": {},
   "outputs": [],
   "source": [
    "import numpy as np\n",
    "import pandas as pd\n",
    "import random as rd\n",
    "from random import randint\n",
    "import matplotlib.pyplot as plt\n",
    "import ipywidgets as wg\n",
    "from IPython.display import display"
   ]
  },
  {
   "cell_type": "code",
   "execution_count": 19,
   "metadata": {},
   "outputs": [
    {
     "name": "stdout",
     "output_type": "stream",
     "text": [
      "Anzahl der Gegenstände:\n"
     ]
    },
    {
     "data": {
      "application/vnd.jupyter.widget-view+json": {
       "model_id": "0e070b65786449c3a8f5127bf94eac5c",
       "version_major": 2,
       "version_minor": 0
      },
      "text/plain": [
       "IntSlider(value=10, max=35, min=1)"
      ]
     },
     "metadata": {},
     "output_type": "display_data"
    },
    {
     "name": "stdout",
     "output_type": "stream",
     "text": [
      "Größe des Rucksacks:\n"
     ]
    },
    {
     "data": {
      "application/vnd.jupyter.widget-view+json": {
       "model_id": "1d89b308121e46e9a9b66c0dbd7b81f1",
       "version_major": 2,
       "version_minor": 0
      },
      "text/plain": [
       "IntSlider(value=35, max=55, min=1)"
      ]
     },
     "metadata": {},
     "output_type": "display_data"
    }
   ],
   "source": [
    "print('Anzahl der Gegenstände:')\n",
    "inum = wg.IntSlider( value=10,min=1, max=35)\n",
    "display(inum)\n",
    "\n",
    "print('Größe des Rucksacks:')\n",
    "kw = wg.IntSlider(value=35,min=1, max=55)\n",
    "display(kw)"
   ]
  },
  {
   "cell_type": "markdown",
   "metadata": {},
   "source": [
    "### Generieren einer Liste von Gegenständen\n",
    "\n",
    "Die generierten Gegenstände erhalten die Attribute Gewicht (weight) und Wert (value).\n",
    "'knapsack_treshold' gibt hierbei die maximale Traglast des Rucksacks an."
   ]
  },
  {
   "cell_type": "code",
   "execution_count": 20,
   "metadata": {},
   "outputs": [
    {
     "name": "stdout",
     "output_type": "stream",
     "text": [
      "The list is as follows:\n",
      "Item No.   Weight   Value\n",
      "1          5         584\n",
      "\n",
      "2          2         596\n",
      "\n",
      "3          10         480\n",
      "\n",
      "4          5         84\n",
      "\n",
      "5          1         363\n",
      "\n",
      "6          2         35\n",
      "\n",
      "7          11         433\n",
      "\n",
      "8          7         152\n",
      "\n",
      "9          14         314\n",
      "\n",
      "10          14         245\n",
      "\n"
     ]
    }
   ],
   "source": [
    "item_number = np.arange(1,inum.value+1)\n",
    "weight = np.random.randint(1, 15, size = inum.value)\n",
    "value = np.random.randint(10, 750, size = inum.value)\n",
    "knapsack_threshold = kw.value\n",
    "print('The list is as follows:')\n",
    "print('Item No.   Weight   Value')\n",
    "for i in range(item_number.shape[0]):\n",
    "    print('{0}          {1}         {2}\\n'.format(item_number[i], weight[i], value[i]))"
   ]
  },
  {
   "cell_type": "markdown",
   "metadata": {},
   "source": [
    "### Erstellen der Anfangspopulation\n",
    "\n",
    "Die Chromosomen in diesem  Beispiel bestehen aus genau so vielen Genen wie es Gegenstände gibt.\n",
    "Jedem Gen kann dabei den Wert 1 oder 0 haben - der Gegenstand ist also im Rucksack enthalten oder nicht.\n",
    "\n",
    "![alt text](Chromosomen.PNG \"Title\")"
   ]
  },
  {
   "cell_type": "code",
   "execution_count": 21,
   "metadata": {},
   "outputs": [
    {
     "name": "stdout",
     "output_type": "stream",
     "text": [
      "Anzahl der Generationen:\n"
     ]
    },
    {
     "data": {
      "application/vnd.jupyter.widget-view+json": {
       "model_id": "72cdaf6c30684afc9e07ec3f99cc8e7f",
       "version_major": 2,
       "version_minor": 0
      },
      "text/plain": [
       "IntSlider(value=50, min=1)"
      ]
     },
     "metadata": {},
     "output_type": "display_data"
    },
    {
     "name": "stdout",
     "output_type": "stream",
     "text": [
      "Größe der Population:\n"
     ]
    },
    {
     "data": {
      "application/vnd.jupyter.widget-view+json": {
       "model_id": "d27e63c047774a0b9924d58e22a67355",
       "version_major": 2,
       "version_minor": 0
      },
      "text/plain": [
       "IntSlider(value=8, max=25, min=1)"
      ]
     },
     "metadata": {},
     "output_type": "display_data"
    }
   ],
   "source": [
    "print('Anzahl der Generationen:')\n",
    "ng = wg.IntSlider( value=50,min=1, max=100)\n",
    "display(ng)\n",
    "print('Größe der Population:')\n",
    "sol = wg.IntSlider( value=8,min=1, max=25)\n",
    "display(sol)"
   ]
  },
  {
   "cell_type": "code",
   "execution_count": 22,
   "metadata": {},
   "outputs": [
    {
     "name": "stdout",
     "output_type": "stream",
     "text": [
      "Population size = (8, 10)\n",
      "Initial population: \n",
      "[[0 1 0 0 0 1 1 0 0 0]\n",
      " [0 0 0 0 0 1 1 1 0 1]\n",
      " [1 1 0 0 1 1 1 0 0 0]\n",
      " [0 1 1 1 0 0 0 1 1 0]\n",
      " [0 0 1 1 1 0 1 0 1 0]\n",
      " [1 1 1 0 0 1 1 1 0 1]\n",
      " [0 0 0 1 1 0 1 1 0 0]\n",
      " [1 1 0 0 1 0 1 1 0 1]]\n"
     ]
    }
   ],
   "source": [
    "solutions_per_pop = sol.value\n",
    "pop_size = (solutions_per_pop, item_number.shape[0])\n",
    "print('Population size = {}'.format(pop_size))\n",
    "initial_population = np.random.randint(2, size = pop_size)\n",
    "initial_population = initial_population.astype(int)\n",
    "num_generations = ng.value\n",
    "print('Initial population: \\n{}'.format(initial_population))"
   ]
  },
  {
   "cell_type": "markdown",
   "metadata": {},
   "source": [
    "### Fitness Measure\n",
    "\n",
    "Die Fitnessfunktion ordnet jedem  Individuum einen 'fitness score' zu, um es bezüglich seiner 'fitness' zu bewerten. Dieser Wert ist die die Grundlage\n",
    "für die Entscheidung ob ein Individuum für die Reproduktion ausgewählt wird.\n",
    "\n",
    "Die Fitnessfunktion die für dieses Problem genutzt wird, ist folgende:\n",
    "![alt text](Formel.PNG \"Title\")\n",
    "\n",
    "mit:\n",
    "n = Länge der Chromosomen\n",
    "c_i = Gen an Stelle i\n",
    "v_i = Wert an Stelle i\n",
    "w_i = Gewicht an Stelle i\n",
    "kw = maximale Traglast des Rucksacks\n"
   ]
  },
  {
   "cell_type": "code",
   "execution_count": 23,
   "metadata": {},
   "outputs": [],
   "source": [
    "def cal_fitness(weight, value, population, knapsack_threshold):\n",
    "    fitness = np.empty(population.shape[0])\n",
    "    for i in range(population.shape[0]):\n",
    "        S1 = np.sum(population[i] * value)\n",
    "        S2 = np.sum(population[i] * weight)\n",
    "        if S2 <= knapsack_threshold:\n",
    "            fitness[i] = S1\n",
    "        else :\n",
    "            fitness[i] = 0\n",
    "    return fitness.astype(int)"
   ]
  },
  {
   "cell_type": "markdown",
   "metadata": {},
   "source": [
    "### Selection\n",
    "\n",
    "Hier werden die \"besten\" Individuen für den nächsten Schritt ausgewählt."
   ]
  },
  {
   "cell_type": "code",
   "execution_count": 24,
   "metadata": {},
   "outputs": [],
   "source": [
    "def selection(fitness, num_parents, population):\n",
    "    fitness = list(fitness)\n",
    "    parents = np.empty((num_parents, population.shape[1]))\n",
    "    for i in range(num_parents):\n",
    "        max_fitness_idx = np.where(fitness == np.max(fitness))\n",
    "        parents[i,:] = population[max_fitness_idx[0][0], :]\n",
    "        fitness[max_fitness_idx[0][0]] = -999999\n",
    "    return parents"
   ]
  },
  {
   "cell_type": "markdown",
   "metadata": {},
   "source": [
    "### Crossover\n",
    "\n",
    "Das Crossover ist der wichtigste Teil von genetischen Algorithmen. Für jedes Elternpaar wird ein 'crossover point' gewählt (in diesem fall in der Mitte\n",
    " des Chromosoms).\n",
    "\n",
    "zur Veranschaulichung ein Beispiel mit sechs Genen und dem 'crossover point' an der dritten Stelle:\n",
    "\n",
    "![alt text](Crossover%20Point.png \"Title\")\n",
    "\n",
    "Für die Nachkommen werden die einzelnen Gene vertauscht, bis der 'crossover point' erreicht ist:\n",
    "\n",
    "![alt text](Exchange.png \"Title\")\n",
    "\n",
    "Die Nachkommen sehen aus wie folgt:\n",
    "\n",
    "![alt text](Offspring.png \"Title\")"
   ]
  },
  {
   "cell_type": "markdown",
   "metadata": {},
   "source": []
  },
  {
   "cell_type": "code",
   "execution_count": 25,
   "metadata": {},
   "outputs": [],
   "source": [
    "def crossover(parents, num_offsprings):\n",
    "    offsprings = np.empty((num_offsprings, parents.shape[1]))\n",
    "    crossover_point = int(parents.shape[1]/2)\n",
    "    crossover_rate = 0.8\n",
    "    i=0\n",
    "    while (parents.shape[0] < num_offsprings):\n",
    "        parent1_index = i%parents.shape[0]\n",
    "        parent2_index = (i+1)%parents.shape[0]\n",
    "        x = rd.random()\n",
    "        if x > crossover_rate:\n",
    "            continue\n",
    "        parent1_index = i%parents.shape[0]\n",
    "        parent2_index = (i+1)%parents.shape[0]\n",
    "        offsprings[i,0:crossover_point] = parents[parent1_index,0:crossover_point]\n",
    "        offsprings[i,crossover_point:] = parents[parent2_index,crossover_point:]\n",
    "        i=+1\n",
    "    return offsprings"
   ]
  },
  {
   "cell_type": "markdown",
   "metadata": {},
   "source": [
    "### Mutation\n",
    "\n",
    "In diesem Schritt werden zufällig einzelne Gene gewählt, die mutieren - bei denen sich also der Wert ändert.\n",
    "Dieses Beispiel verwendet die 'bit-flip' Technik. Hat ein, für die Mutation ausgewähltes, Gen den Wert 1, wird dieser mit 0 ersetzt und umgekehrt."
   ]
  },
  {
   "cell_type": "code",
   "execution_count": 26,
   "metadata": {},
   "outputs": [],
   "source": [
    "def mutation(offsprings):\n",
    "    mutants = np.empty((offsprings.shape))\n",
    "    mutation_rate = 0.4\n",
    "    for i in range(mutants.shape[0]):\n",
    "        random_value = rd.random()\n",
    "        mutants[i,:] = offsprings[i,:]\n",
    "        if random_value > mutation_rate:\n",
    "            continue\n",
    "        int_random_value = randint(0,offsprings.shape[1]-1)\n",
    "        if mutants[i,int_random_value] == 0 :\n",
    "            mutants[i,int_random_value] = 1\n",
    "        else :\n",
    "            mutants[i,int_random_value] = 0\n",
    "    return mutants"
   ]
  },
  {
   "cell_type": "markdown",
   "metadata": {},
   "source": [
    "### Initialisierung\n",
    "\n",
    "Alle Funktionen wurden definiert und werden nun in der Reihenfolge des Ablaufdiagramms abgerufen. Dadurch finden wir die erforderlichen Parameter\n",
    "und können die notwendigen Initialisierungen durchführen."
   ]
  },
  {
   "cell_type": "code",
   "execution_count": 27,
   "metadata": {},
   "outputs": [],
   "source": [
    "def optimize(weight, value, population, pop_size, num_generations, threshold):\n",
    "    parameters, fitness_history = [], []\n",
    "    num_parents = int(pop_size[0]/2)\n",
    "    num_offsprings = pop_size[0] - num_parents\n",
    "    for i in range(num_generations):\n",
    "        fitness = cal_fitness(weight, value, population, threshold)\n",
    "        fitness_history.append(fitness)\n",
    "        parents = selection(fitness, num_parents, population)\n",
    "        offsprings = crossover(parents, num_offsprings)\n",
    "        mutants = mutation(offsprings)\n",
    "        population[0:parents.shape[0], :] = parents\n",
    "        population[parents.shape[0]:, :] = mutants\n",
    "\n",
    "    print('Last generation: \\n{}\\n'.format(population))\n",
    "    fitness_last_gen = cal_fitness(weight, value, population, threshold)\n",
    "    print('Fitness of the last generation: \\n{}\\n'.format(fitness_last_gen))\n",
    "    max_fitness = np.where(fitness_last_gen == np.max(fitness_last_gen))\n",
    "    parameters.append(population[max_fitness[0][0],:])\n",
    "    return parameters, fitness_history"
   ]
  },
  {
   "cell_type": "markdown",
   "metadata": {},
   "source": [
    "### Ergebnis\n",
    "\n",
    "Der Nachwuchs mit der besten 'fitness' ist gefunden.\n",
    "Die Stellen mit dem Wert 1 geben an welche Gegenstände mitgenommen werden."
   ]
  },
  {
   "cell_type": "code",
   "execution_count": 28,
   "metadata": {},
   "outputs": [
    {
     "name": "stdout",
     "output_type": "stream",
     "text": [
      "Last generation: \n",
      "[[1 1 0 0 1 1 1 0 1 0]\n",
      " [1 1 0 0 1 1 1 0 1 0]\n",
      " [1 1 0 0 1 1 1 0 1 0]\n",
      " [1 1 0 0 1 1 1 0 1 0]\n",
      " [1 1 0 0 1 0 1 0 1 0]\n",
      " [1 1 0 0 1 1 1 0 1 0]\n",
      " [1 1 0 0 1 1 1 0 1 0]\n",
      " [1 1 0 0 1 1 1 0 1 0]]\n",
      "\n",
      "Fitness of the last generation: \n",
      "[2325 2325 2325 2325 2290 2325 2325 2325]\n",
      "\n",
      "The optimized parameters for the given inputs are: \n",
      "[array([1, 1, 0, 0, 1, 1, 1, 0, 1, 0])]\n",
      "\n",
      "Selected items that will maximize the knapsack without breaking it:\n",
      "1\n",
      "\n",
      "2\n",
      "\n",
      "5\n",
      "\n",
      "6\n",
      "\n",
      "7\n",
      "\n",
      "9\n",
      "\n"
     ]
    }
   ],
   "source": [
    "parameters, fitness_history = optimize(weight, value, initial_population, pop_size, num_generations, knapsack_threshold)\n",
    "print('The optimized parameters for the given inputs are: \\n{}'.format(parameters))\n",
    "selected_items = item_number * parameters\n",
    "print('\\nSelected items that will maximize the knapsack without breaking it:')\n",
    "for i in range(selected_items.shape[1]):\n",
    "  if selected_items[0][i] != 0:\n",
    "     print('{}\\n'.format(selected_items[0][i]))"
   ]
  },
  {
   "cell_type": "markdown",
   "metadata": {},
   "source": [
    "### Visualisierung\n",
    "\n",
    "Diese Visualisierung zeigt wie sich die 'fitness' mit jeder Generation veränmdert hat."
   ]
  },
  {
   "cell_type": "code",
   "execution_count": 29,
   "metadata": {},
   "outputs": [
    {
     "data": {
      "image/png": "[encoded data removed]",
      "text/plain": [
       "<Figure size 640x480 with 1 Axes>"
      ]
     },
     "metadata": {},
     "output_type": "display_data"
    },
    {
     "name": "stdout",
     "output_type": "stream",
     "text": [
      "(50, 8)\n"
     ]
    }
   ],
   "source": [
    "fitness_history_mean = [np.mean(fitness) for fitness in fitness_history]\n",
    "fitness_history_max = [np.max(fitness) for fitness in fitness_history]\n",
    "plt.plot(list(range(num_generations)), fitness_history_mean, label = 'Mean Fitness')\n",
    "plt.plot(list(range(num_generations)), fitness_history_max, label = 'Max Fitness')\n",
    "plt.legend()\n",
    "plt.title('Fitness through the generations')\n",
    "plt.xlabel('Generations')\n",
    "plt.ylabel('Fitness')\n",
    "plt.show()\n",
    "print(np.asarray(fitness_history).shape)"
   ]
  },
  {
   "cell_type": "markdown",
   "metadata": {},
   "source": [
    "Quellen:\n",
    "https://medium.com/koderunners/genetic-algorithm-part-1-intuition-fde1b75bd3f9\n",
    "https://medium.com/koderunners/genetic-algorithm-part-3-knapsack-problem-b59035ddd1d6\n",
    "https://towardsdatascience.com/introduction-to-genetic-algorithms-including-example-code-e396e98d8bf3#:~:text=A%20genetic%20algorithm%20is%20a,offspring%20of%20the%20next%20generation."
   ]
  }
 ],
 "metadata": {
  "kernelspec": {
   "display_name": "Python 3 (ipykernel)",
   "language": "python",
   "name": "python3"
  },
  "language_info": {
   "codemirror_mode": {
    "name": "ipython",
    "version": 3
   },
   "file_extension": ".py",
   "mimetype": "text/x-python",
   "name": "python",
   "nbconvert_exporter": "python",
   "pygments_lexer": "ipython3",
   "version": "3.9.13"
  }
 },
 "nbformat": 4,
 "nbformat_minor": 1
}
