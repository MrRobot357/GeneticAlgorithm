{
 "cells": [
  {
   "cell_type": "markdown",
   "source": [
    "# Genetic algorithm: Rucksackproblem\n",
    "\n",
    "In diesem Beispiel soll das sogenannte Rucksackproblem gelöst werden.\n",
    "Eine Menge von Gegenständen, die jeweils ein Gewicht und einen Nutzwert haben, sollen in einen Rucksack gepackt werden, der eine maximale Traglast hat.\n",
    "Da der Rucksack nicht für alle Objekte ausreicht, kann nur ein Teil davon eingepackt werden.\n",
    "Der Nutzwert der gewählten Sachen soll maximiert werden, ohne die Maximallast zu übersteigen.\n",
    "\n",
    "Genetische Algorithmen können hierfür eine Lösung sein.\n",
    "Diese Algorithmen basieren auf Darwins Theorie 'survival of the fittest'. Hierbei werden, ähnlich wie bei der Evolution, jeweils 2 Lösungsvorschläge miteinander kombiniert, sodass ein neuer Lösungsvorschlag entsteht. Durch das Wiederholen dieses Vorgangs entstehen mehrere Generationen von Lösungsvorschlägen. Zusätzlich wird jede Generation zufällig verändert (Mutation).\n",
    "\n",
    "Folgendes Ablaufdiagramm veranschaulicht die Schritte, die in diesem Beispiel durchgeführt werden:\n",
    "\n",
    "![alt text](Flowchart.png \"Title\")"
   ],
   "metadata": {
    "collapsed": false
   }
  },
  {
   "cell_type": "code",
   "execution_count": 27,
   "metadata": {},
   "outputs": [],
   "source": [
    "import numpy as np\n",
    "import pandas as pd\n",
    "import random as rd\n",
    "from random import randint\n",
    "import matplotlib.pyplot as plt\n",
    "import ipywidgets as wg\n",
    "from IPython.display import display"
   ]
  },
  {
   "cell_type": "code",
   "execution_count": 28,
   "metadata": {},
   "outputs": [
    {
     "name": "stdout",
     "output_type": "stream",
     "text": [
      "Anzahl der Gegenstände:\n"
     ]
    },
    {
     "data": {
      "text/plain": "IntSlider(value=10, max=35, min=1)",
      "application/vnd.jupyter.widget-view+json": {
       "version_major": 2,
       "version_minor": 0,
       "model_id": "853a3c6f143f4f7dba36a855fec0d6c1"
      }
     },
     "metadata": {},
     "output_type": "display_data"
    },
    {
     "name": "stdout",
     "output_type": "stream",
     "text": [
      "Größe des Rucksacks:\n"
     ]
    },
    {
     "data": {
      "text/plain": "IntSlider(value=35, max=55, min=1)",
      "application/vnd.jupyter.widget-view+json": {
       "version_major": 2,
       "version_minor": 0,
       "model_id": "6ac27bce3715402da3227ba7ca20dd27"
      }
     },
     "metadata": {},
     "output_type": "display_data"
    }
   ],
   "source": [
    "print('Anzahl der Gegenstände:')\n",
    "inum = wg.IntSlider( value=10,min=1, max=35)\n",
    "display(inum)\n",
    "\n",
    "print('Größe des Rucksacks:')\n",
    "kw = wg.IntSlider(value=35,min=1, max=55)\n",
    "display(kw)"
   ]
  },
  {
   "cell_type": "markdown",
   "metadata": {},
   "source": [
    "### Generieren einer Liste von Gegenständen\n",
    "\n",
    "Die generierten Gegenstände erhalten die Attribute Gewicht (weight) und Wert (value).\n",
    "'knapsack_treshold' gibt hierbei die maximale Traglast des Rucksacks an."
   ]
  },
  {
   "cell_type": "code",
   "execution_count": 29,
   "metadata": {},
   "outputs": [
    {
     "name": "stdout",
     "output_type": "stream",
     "text": [
      "Gegenstandsliste:\n",
      "#Gegenstand   Gewicht   Nutzwert\n",
      "1          14         536\n",
      "\n",
      "2          2         741\n",
      "\n",
      "3          4         306\n",
      "\n",
      "4          1         693\n",
      "\n",
      "5          9         42\n",
      "\n",
      "6          8         472\n",
      "\n",
      "7          1         282\n",
      "\n",
      "8          6         615\n",
      "\n",
      "9          10         638\n",
      "\n",
      "10          7         556\n",
      "\n"
     ]
    }
   ],
   "source": [
    "# Generieren zufälliger Gegenstände\n",
    "item_number = np.arange(1,inum.value+1)\n",
    "weight = np.random.randint(1, 15, size = inum.value) # Gewicht der Gegenstände\n",
    "value = np.random.randint(10, 750, size = inum.value) # Wert der Gegenstände\n",
    "knapsack_threshold = kw.value # Größe des Rucksacks\n",
    "print('Gegenstandsliste:')\n",
    "print('#Gegenstand   Gewicht   Nutzwert')\n",
    "for i in range(item_number.shape[0]):\n",
    "    print('{0}          {1}         {2}\\n'.format(item_number[i], weight[i], value[i]))"
   ]
  },
  {
   "cell_type": "markdown",
   "metadata": {},
   "source": [
    "### Erstellen der Anfangspopulation\n",
    "\n",
    "Die Chromosomen in diesem  Beispiel bestehen aus genau so vielen Genen wie es Gegenstände gibt.\n",
    "Jedes Gen kann dabei den Wert 1 oder 0 haben - der Gegenstand ist also im Rucksack enthalten oder nicht.\n",
    "\n",
    "![alt text](Chromosomen.PNG \"Title\")"
   ]
  },
  {
   "cell_type": "code",
   "execution_count": 30,
   "metadata": {},
   "outputs": [
    {
     "name": "stdout",
     "output_type": "stream",
     "text": [
      "Anzahl der Generationen:\n"
     ]
    },
    {
     "data": {
      "text/plain": "IntSlider(value=50, min=1)",
      "application/vnd.jupyter.widget-view+json": {
       "version_major": 2,
       "version_minor": 0,
       "model_id": "2de449296a2f4645aa20a16fa1a5b900"
      }
     },
     "metadata": {},
     "output_type": "display_data"
    },
    {
     "name": "stdout",
     "output_type": "stream",
     "text": [
      "Größe der Population:\n"
     ]
    },
    {
     "data": {
      "text/plain": "IntSlider(value=8, max=25, min=1)",
      "application/vnd.jupyter.widget-view+json": {
       "version_major": 2,
       "version_minor": 0,
       "model_id": "e07bdc5b813541b68bd2c9f3da42bce2"
      }
     },
     "metadata": {},
     "output_type": "display_data"
    }
   ],
   "source": [
    "print('Anzahl der Generationen:')\n",
    "ng = wg.IntSlider( value=50,min=1, max=100)\n",
    "display(ng)\n",
    "print('Größe der Population:')\n",
    "sol = wg.IntSlider( value=8,min=1, max=25)\n",
    "display(sol)"
   ]
  },
  {
   "cell_type": "code",
   "execution_count": 31,
   "metadata": {},
   "outputs": [
    {
     "name": "stdout",
     "output_type": "stream",
     "text": [
      "Population size = (8, 10)\n",
      "Initial population: \n",
      "[[1 1 1 1 0 1 0 0 0 1]\n",
      " [1 1 0 0 0 0 0 0 0 1]\n",
      " [0 0 0 1 1 0 1 1 0 0]\n",
      " [0 1 1 0 0 0 0 1 0 0]\n",
      " [0 0 0 1 0 0 1 0 1 1]\n",
      " [1 1 0 0 1 0 0 0 1 1]\n",
      " [1 1 1 0 1 0 1 1 0 1]\n",
      " [1 1 1 1 0 0 0 1 0 0]]\n"
     ]
    }
   ],
   "source": [
    "# Erstellen der Anfangspopulation\n",
    "solutions_per_pop = sol.value\n",
    "pop_size = (solutions_per_pop, item_number.shape[0])\n",
    "print('Population size = {}'.format(pop_size))\n",
    "initial_population = np.random.randint(2, size = pop_size)\n",
    "initial_population = initial_population.astype(int)\n",
    "num_generations = ng.value\n",
    "print('Initial population: \\n{}'.format(initial_population))"
   ]
  },
  {
   "cell_type": "markdown",
   "metadata": {},
   "source": [
    "### Fitness Measure\n",
    "\n",
    "Die Fitnessfunktion ordnet jedem Lösungsvorschlag einen 'fitness score' zu, um es bezüglich seiner Qualität zu bewerten. Dieser Wert ist die Grundlage\n",
    "für die Entscheidung, ob ein Lösungsvorschlag für die Reproduktion ausgewählt wird.\n",
    "\n",
    "Die Fitnessfunktion, die für dieses Problem genutzt wird, ist folgende:\n",
    "![alt text](Formel.PNG \"Title\")\n",
    "\n",
    "mit:\n",
    "n = Länge der Chromosomen\n",
    "c_i = Gen an Stelle i\n",
    "v_i = Wert an Stelle i\n",
    "w_i = Gewicht an Stelle i\n",
    "kw = maximale Traglast des Rucksacks\n"
   ]
  },
  {
   "cell_type": "code",
   "execution_count": 32,
   "metadata": {},
   "outputs": [],
   "source": [
    "def cal_fitness(weight, value, population, knapsack_threshold):\n",
    "    fitness = np.empty(population.shape[0])\n",
    "    for i in range(population.shape[0]):\n",
    "        S1 = np.sum(population[i] * value)\n",
    "        S2 = np.sum(population[i] * weight)\n",
    "        if S2 <= knapsack_threshold:\n",
    "            fitness[i] = S1\n",
    "        else :\n",
    "            fitness[i] = 0\n",
    "    return fitness.astype(int)"
   ]
  },
  {
   "cell_type": "markdown",
   "metadata": {},
   "source": [
    "### Selection\n",
    "\n",
    "Hier werden die \"besten\" Lösungsvorschläge für den nächsten Schritt ausgewählt."
   ]
  },
  {
   "cell_type": "code",
   "execution_count": 33,
   "metadata": {},
   "outputs": [],
   "source": [
    "def selection(fitness, num_parents, population):\n",
    "    fitness = list(fitness)\n",
    "    parents = np.empty((num_parents, population.shape[1]))\n",
    "    for i in range(num_parents):\n",
    "        max_fitness_idx = np.where(fitness == np.max(fitness))\n",
    "        parents[i,:] = population[max_fitness_idx[0][0], :]\n",
    "        fitness[max_fitness_idx[0][0]] = -999999\n",
    "    return parents"
   ]
  },
  {
   "cell_type": "markdown",
   "metadata": {},
   "source": [
    "### Crossover\n",
    "\n",
    "Das Crossover ist der wichtigste Teil von genetischen Algorithmen. Für jedes Elternpaar wird ein 'crossover point' gewählt (in diesem Fall in der Mitte\n",
    " des Chromosoms).\n",
    "\n",
    "zur Veranschaulichung ein Beispiel mit sechs Genen und dem 'crossover point' an der dritten Stelle:\n",
    "\n",
    "![alt text](Crossover%20Point.png \"Title\")\n",
    "\n",
    "Für die Nachkommen werden die einzelnen Gene vertauscht, bis der 'crossover point' erreicht ist:\n",
    "\n",
    "![alt text](Exchange.png \"Title\")\n",
    "\n",
    "Die Nachkommen sehen aus wie folgt:\n",
    "\n",
    "![alt text](Offspring.png \"Title\")"
   ]
  },
  {
   "cell_type": "markdown",
   "metadata": {},
   "source": []
  },
  {
   "cell_type": "code",
   "execution_count": 34,
   "metadata": {},
   "outputs": [],
   "source": [
    "def crossover(parents, num_offsprings):\n",
    "    offsprings = np.empty((num_offsprings, parents.shape[1]))\n",
    "    crossover_point = int(parents.shape[1]/2)\n",
    "    crossover_rate = 0.8\n",
    "    i=0\n",
    "    while (parents.shape[0] < num_offsprings):\n",
    "        parent1_index = i%parents.shape[0]\n",
    "        parent2_index = (i+1)%parents.shape[0]\n",
    "        x = rd.random()\n",
    "        if x > crossover_rate:\n",
    "            continue\n",
    "        parent1_index = i%parents.shape[0]\n",
    "        parent2_index = (i+1)%parents.shape[0]\n",
    "        offsprings[i,0:crossover_point] = parents[parent1_index,0:crossover_point]\n",
    "        offsprings[i,crossover_point:] = parents[parent2_index,crossover_point:]\n",
    "        i=+1\n",
    "    return offsprings"
   ]
  },
  {
   "cell_type": "markdown",
   "metadata": {},
   "source": [
    "### Mutation\n",
    "\n",
    "In diesem Schritt werden zufällig einzelne Gene gewählt, die mutieren - bei denen sich also der Wert ändert.\n",
    "Dieses Beispiel verwendet die 'bit-flip' Technik. Hat ein, für die Mutation ausgewähltes, Gen den Wert 1, wird dieser mit 0 ersetzt und umgekehrt."
   ]
  },
  {
   "cell_type": "code",
   "execution_count": 35,
   "metadata": {},
   "outputs": [],
   "source": [
    "def mutation(offsprings):\n",
    "    mutants = np.empty((offsprings.shape))\n",
    "    mutation_rate = 0.4\n",
    "    for i in range(mutants.shape[0]):\n",
    "        random_value = rd.random()\n",
    "        mutants[i,:] = offsprings[i,:]\n",
    "        if random_value > mutation_rate:\n",
    "            continue\n",
    "        int_random_value = randint(0,offsprings.shape[1]-1)\n",
    "        if mutants[i,int_random_value] == 0 :\n",
    "            mutants[i,int_random_value] = 1\n",
    "        else :\n",
    "            mutants[i,int_random_value] = 0\n",
    "    return mutants"
   ]
  },
  {
   "cell_type": "markdown",
   "metadata": {},
   "source": [
    "### Initialisierung\n",
    "\n",
    "Alle Funktionen wurden definiert und werden nun in der Reihenfolge des Ablaufdiagramms abgerufen. Dadurch finden wir die erforderlichen Parameter\n",
    "und können die notwendigen Initialisierungen durchführen."
   ]
  },
  {
   "cell_type": "code",
   "execution_count": 36,
   "metadata": {},
   "outputs": [],
   "source": [
    "def optimize(weight, value, population, pop_size, num_generations, threshold):\n",
    "    parameters, fitness_history = [], []\n",
    "    num_parents = int(pop_size[0]/2)\n",
    "    num_offsprings = pop_size[0] - num_parents\n",
    "    for i in range(num_generations):\n",
    "        fitness = cal_fitness(weight, value, population, threshold)\n",
    "        fitness_history.append(fitness)\n",
    "        parents = selection(fitness, num_parents, population)\n",
    "        offsprings = crossover(parents, num_offsprings)\n",
    "        mutants = mutation(offsprings)\n",
    "        population[0:parents.shape[0], :] = parents\n",
    "        population[parents.shape[0]:, :] = mutants\n",
    "\n",
    "    print('Letzte Generation: \\n{}\\n'.format(population))\n",
    "    fitness_last_gen = cal_fitness(weight, value, population, threshold)\n",
    "    print('Fitness der letzten Generation: \\n{}\\n'.format(fitness_last_gen))\n",
    "    max_fitness = np.where(fitness_last_gen == np.max(fitness_last_gen))\n",
    "    parameters.append(population[max_fitness[0][0],:])\n",
    "    return parameters, fitness_history"
   ]
  },
  {
   "cell_type": "markdown",
   "metadata": {},
   "source": [
    "### Ergebnis\n",
    "\n",
    "Der Nachwuchs mit der besten 'fitness' ist gefunden.\n",
    "Die Stellen mit dem Wert 1 geben an, welche Gegenstände mitgenommen werden."
   ]
  },
  {
   "cell_type": "code",
   "execution_count": 37,
   "metadata": {},
   "outputs": [
    {
     "name": "stdout",
     "output_type": "stream",
     "text": [
      "Letzte Generation: \n",
      "[[1 1 0 1 0 0 1 1 1 0]\n",
      " [1 1 0 1 0 0 1 1 1 0]\n",
      " [1 1 0 1 0 0 1 1 1 0]\n",
      " [1 1 0 1 0 0 1 1 1 0]\n",
      " [1 1 0 1 0 0 1 1 1 0]\n",
      " [1 1 0 1 0 0 1 1 1 0]\n",
      " [1 1 0 1 0 0 1 1 1 0]\n",
      " [1 1 0 1 0 0 1 1 1 0]]\n",
      "\n",
      "Fitness der letzten Generation: \n",
      "[3505 3505 3505 3505 3505 3505 3505 3505]\n",
      "\n",
      "Die optimierten Parameter sind: \n",
      "[array([1, 1, 0, 1, 0, 0, 1, 1, 1, 0])]\n",
      "\n",
      "Gewählte Kombination aus Gegenständen mit größtmöglichem Nutzwert, ohne den Rucksack zu überlasten:\n",
      "1\n",
      "\n",
      "2\n",
      "\n",
      "4\n",
      "\n",
      "7\n",
      "\n",
      "8\n",
      "\n",
      "9\n",
      "\n"
     ]
    }
   ],
   "source": [
    "parameters, fitness_history = optimize(weight, value, initial_population, pop_size, num_generations, knapsack_threshold)\n",
    "print('Die optimierten Parameter sind: \\n{}'.format(parameters))\n",
    "selected_items = item_number * parameters\n",
    "print('\\nGewählte Kombination aus Gegenständen mit größtmöglichem Nutzwert, ohne den Rucksack zu überlasten:')\n",
    "for i in range(selected_items.shape[1]):\n",
    "  if selected_items[0][i] != 0:\n",
    "     print('{}\\n'.format(selected_items[0][i]))"
   ]
  },
  {
   "cell_type": "markdown",
   "metadata": {},
   "source": [
    "### Visualisierung\n",
    "\n",
    "Diese Visualisierung zeigt, wie sich die 'fitness' mit jeder Generation verändert hat."
   ]
  },
  {
   "cell_type": "code",
   "execution_count": 38,
   "metadata": {},
   "outputs": [
    {
     "data": {
      "text/plain": "<Figure size 640x480 with 1 Axes>",
      "image/png": "[encoded data removed]"
     },
     "metadata": {},
     "output_type": "display_data"
    },
    {
     "name": "stdout",
     "output_type": "stream",
     "text": [
      "(50, 8)\n"
     ]
    }
   ],
   "source": [
    "fitness_history_mean = [np.mean(fitness) for fitness in fitness_history]\n",
    "fitness_history_max = [np.max(fitness) for fitness in fitness_history]\n",
    "plt.plot(list(range(num_generations)), fitness_history_mean, label = 'Mean Fitness')\n",
    "plt.plot(list(range(num_generations)), fitness_history_max, label = 'Max Fitness')\n",
    "plt.legend()\n",
    "plt.title('Fitness through the generations')\n",
    "plt.xlabel('Generations')\n",
    "plt.ylabel('Fitness')\n",
    "plt.show()\n",
    "print(np.asarray(fitness_history).shape)"
   ]
  },
  {
   "cell_type": "markdown",
   "metadata": {},
   "source": [
    "Quellen:\n",
    "https://medium.com/koderunners/genetic-algorithm-part-1-intuition-fde1b75bd3f9\n",
    "https://medium.com/koderunners/genetic-algorithm-part-3-knapsack-problem-b59035ddd1d6\n",
    "https://towardsdatascience.com/introduction-to-genetic-algorithms-including-example-code-e396e98d8bf3#:~:text=A%20genetic%20algorithm%20is%20a,offspring%20of%20the%20next%20generation."
   ]
  }
 ],
 "metadata": {
  "kernelspec": {
   "display_name": "Python 3 (ipykernel)",
   "language": "python",
   "name": "python3"
  },
  "language_info": {
   "codemirror_mode": {
    "name": "ipython",
    "version": 3
   },
   "file_extension": ".py",
   "mimetype": "text/x-python",
   "name": "python",
   "nbconvert_exporter": "python",
   "pygments_lexer": "ipython3",
   "version": "3.9.13"
  }
 },
 "nbformat": 4,
 "nbformat_minor": 1
}
